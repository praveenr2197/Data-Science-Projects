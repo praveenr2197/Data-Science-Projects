{
 "cells": [
  {
   "cell_type": "raw",
   "id": "fb3f3310",
   "metadata": {},
   "source": [
    "# Univariate Analysis\n",
    "\n",
    "def annot_percent(axes):\n",
    "    for p in plot.patches:\n",
    "        total = sum(p.get_height() for p in plot.patches)/100\n",
    "        percent = round((p.get_height()/total),2)\n",
    "        x = p.get_x() + p.get_width()/2\n",
    "        y = p.get_height()\n",
    "        plot.annotate(f'{percent}%', (x, y), ha='center', va='bottom')\n",
    "\n",
    "#plotting countplot for some categoriacal variable\n",
    "\n",
    "plt.figure(figsize=(15,25),dpi=100)\n",
    "n=1\n",
    "for i in df_cat:\n",
    "    plot=plt.subplot(12,2,n)\n",
    "    n+=1\n",
    "    sns.countplot(df1[i] ,palette=sns.color_palette(\"hls\", 8))\n",
    "    plt.title(f'{i.title()}',weight='bold')\n",
    "    plt.tight_layout()\n",
    "    annot_percent(plot)"
   ]
  },
  {
   "cell_type": "raw",
   "id": "d7bb4a62",
   "metadata": {},
   "source": [
    "# Bivariate Analysis for categorical\n",
    "\n",
    "def annot_percent(axes):\n",
    "    for p in plot.patches:\n",
    "        total = sum(p.get_height() for p in plot.patches)/100\n",
    "        percent = round((p.get_height()/total),2)\n",
    "        x = p.get_x() + p.get_width()/2\n",
    "        y = p.get_height()\n",
    "        plot.annotate(f'{percent}%', (x, y), ha='center', va='bottom')\n",
    "\n",
    "#plotting countplot for some categoriacal variable\n",
    "\n",
    "plt.figure(figsize=(15,25),dpi=100)\n",
    "n=1\n",
    "for i in df_cat:\n",
    "    plot=plt.subplot(12,2,n)\n",
    "    n+=1\n",
    "    sns.countplot(df1[i] ,hue=df['loan_status'], palette=sns.color_palette(\"hls\", 8))\n",
    "    plt.title(f'{i.title()}',weight='bold')\n",
    "    plt.tight_layout()\n",
    "    annot_percent(plot)"
   ]
  },
  {
   "cell_type": "raw",
   "id": "94ff82d0",
   "metadata": {},
   "source": [
    "# CHI SQUARE TEST OF INDEPENDENCE\n",
    "\n",
    "for i in df_cat.columns:\n",
    "    table=pd.crosstab(df['loan_status'],df[i])\n",
    "    stats,p,dof,exp=chi2_contingency(table)\n",
    "    alpha=0.05\n",
    "    print('p-value is '+str(p))\n",
    "    if p<=alpha:\n",
    "        print('Reject Null hypothesis. Hence, the LOAN STATUS and ',i,'are dependent.')\n",
    "        print()\n",
    "    else:\n",
    "        print('Accept null hypothesis.Hence, the LOAN STATUS and ',i,' are independent.')\n",
    "        print()"
   ]
  },
  {
   "cell_type": "raw",
   "id": "699fadce",
   "metadata": {},
   "source": [
    "Dealing with emp_duration !!\n",
    "\n",
    "df_duo['emp_duration'] = df_duo['emp_length'].map({\n",
    "    '10+ years' : 'high',\n",
    "    '8 years' : 'high',\n",
    "    '9 years' : 'high',\n",
    "    'n/a' : 'None',\n",
    "    '1 years' : 'low',\n",
    "    '< 1 year' : 'low',\n",
    "    '2 years' : 'low',\n",
    "    '3 years' : 'low',\n",
    "    '7 years' : 'medium',\n",
    "    '6 years' : 'medium',\n",
    "    '5 years' : 'medium'\n",
    "})\n",
    "df_duo = dummy_it(df_duo,'emp_length','emp_duration')"
   ]
  },
  {
   "cell_type": "raw",
   "id": "d69d8799",
   "metadata": {},
   "source": [
    "last_week_pay and term \n",
    "\n",
    "\n",
    "df['last_week_pay'] = df['last_week_pay'].str.extract('(\\d+)', expand=False).astype(int)\n",
    "df['last_week_pay'].head()\n",
    "df['term'] = df['term'].str.extract('(\\w+)', expand=False).astype(int)\n",
    "df['term'].head()"
   ]
  },
  {
   "cell_type": "code",
   "execution_count": 1,
   "id": "244ad322",
   "metadata": {},
   "outputs": [],
   "source": [
    "import pandas as pd"
   ]
  },
  {
   "cell_type": "code",
   "execution_count": 2,
   "id": "3b352182",
   "metadata": {},
   "outputs": [],
   "source": [
    "df1 = pd.read_csv('data_clean.csv')"
   ]
  },
  {
   "cell_type": "code",
   "execution_count": 3,
   "id": "6cdb92f9",
   "metadata": {},
   "outputs": [
    {
     "data": {
      "text/html": [
       "<div>\n",
       "<style scoped>\n",
       "    .dataframe tbody tr th:only-of-type {\n",
       "        vertical-align: middle;\n",
       "    }\n",
       "\n",
       "    .dataframe tbody tr th {\n",
       "        vertical-align: top;\n",
       "    }\n",
       "\n",
       "    .dataframe thead th {\n",
       "        text-align: right;\n",
       "    }\n",
       "</style>\n",
       "<table border=\"1\" class=\"dataframe\">\n",
       "  <thead>\n",
       "    <tr style=\"text-align: right;\">\n",
       "      <th></th>\n",
       "      <th>funded_amnt</th>\n",
       "      <th>term</th>\n",
       "      <th>int_rate</th>\n",
       "      <th>grade</th>\n",
       "      <th>emp_length</th>\n",
       "      <th>home_ownership</th>\n",
       "      <th>annual_inc</th>\n",
       "      <th>verification_status</th>\n",
       "      <th>purpose</th>\n",
       "      <th>dti</th>\n",
       "      <th>...</th>\n",
       "      <th>total_rec_int</th>\n",
       "      <th>total_rec_late_fee</th>\n",
       "      <th>recoveries</th>\n",
       "      <th>collection_recovery_fee</th>\n",
       "      <th>collections_12_mths_ex_med</th>\n",
       "      <th>last_week_pay</th>\n",
       "      <th>tot_coll_amt</th>\n",
       "      <th>tot_cur_bal</th>\n",
       "      <th>total_rev_hi_lim</th>\n",
       "      <th>loan_status</th>\n",
       "    </tr>\n",
       "  </thead>\n",
       "  <tbody>\n",
       "    <tr>\n",
       "      <th>0</th>\n",
       "      <td>14350</td>\n",
       "      <td>36 months</td>\n",
       "      <td>19.19</td>\n",
       "      <td>others</td>\n",
       "      <td>High</td>\n",
       "      <td>OWN</td>\n",
       "      <td>28700.0</td>\n",
       "      <td>Source Verified</td>\n",
       "      <td>debt_consolidation</td>\n",
       "      <td>33.88</td>\n",
       "      <td>...</td>\n",
       "      <td>1173.84</td>\n",
       "      <td>0.0</td>\n",
       "      <td>0.0</td>\n",
       "      <td>0.0</td>\n",
       "      <td>0.0</td>\n",
       "      <td>26th week</td>\n",
       "      <td>0.0</td>\n",
       "      <td>28699.0</td>\n",
       "      <td>30800.0</td>\n",
       "      <td>0</td>\n",
       "    </tr>\n",
       "    <tr>\n",
       "      <th>1</th>\n",
       "      <td>4800</td>\n",
       "      <td>36 months</td>\n",
       "      <td>10.99</td>\n",
       "      <td>B</td>\n",
       "      <td>Low</td>\n",
       "      <td>MORTGAGE</td>\n",
       "      <td>65000.0</td>\n",
       "      <td>Source Verified</td>\n",
       "      <td>home_improvement</td>\n",
       "      <td>3.64</td>\n",
       "      <td>...</td>\n",
       "      <td>83.95</td>\n",
       "      <td>0.0</td>\n",
       "      <td>0.0</td>\n",
       "      <td>0.0</td>\n",
       "      <td>0.0</td>\n",
       "      <td>9th week</td>\n",
       "      <td>0.0</td>\n",
       "      <td>9974.0</td>\n",
       "      <td>32900.0</td>\n",
       "      <td>0</td>\n",
       "    </tr>\n",
       "    <tr>\n",
       "      <th>2</th>\n",
       "      <td>10000</td>\n",
       "      <td>36 months</td>\n",
       "      <td>7.26</td>\n",
       "      <td>A</td>\n",
       "      <td>Low</td>\n",
       "      <td>OWN</td>\n",
       "      <td>45000.0</td>\n",
       "      <td>Not Verified</td>\n",
       "      <td>debt_consolidation</td>\n",
       "      <td>18.42</td>\n",
       "      <td>...</td>\n",
       "      <td>56.47</td>\n",
       "      <td>0.0</td>\n",
       "      <td>0.0</td>\n",
       "      <td>0.0</td>\n",
       "      <td>0.0</td>\n",
       "      <td>9th week</td>\n",
       "      <td>65.0</td>\n",
       "      <td>38295.0</td>\n",
       "      <td>34900.0</td>\n",
       "      <td>0</td>\n",
       "    </tr>\n",
       "    <tr>\n",
       "      <th>3</th>\n",
       "      <td>15000</td>\n",
       "      <td>36 months</td>\n",
       "      <td>19.72</td>\n",
       "      <td>D</td>\n",
       "      <td>High</td>\n",
       "      <td>RENT</td>\n",
       "      <td>105000.0</td>\n",
       "      <td>Not Verified</td>\n",
       "      <td>debt_consolidation</td>\n",
       "      <td>14.97</td>\n",
       "      <td>...</td>\n",
       "      <td>4858.62</td>\n",
       "      <td>0.0</td>\n",
       "      <td>0.0</td>\n",
       "      <td>0.0</td>\n",
       "      <td>0.0</td>\n",
       "      <td>135th week</td>\n",
       "      <td>0.0</td>\n",
       "      <td>55564.0</td>\n",
       "      <td>24700.0</td>\n",
       "      <td>0</td>\n",
       "    </tr>\n",
       "    <tr>\n",
       "      <th>4</th>\n",
       "      <td>16000</td>\n",
       "      <td>36 months</td>\n",
       "      <td>10.64</td>\n",
       "      <td>B</td>\n",
       "      <td>High</td>\n",
       "      <td>RENT</td>\n",
       "      <td>52000.0</td>\n",
       "      <td>Verified</td>\n",
       "      <td>credit_card</td>\n",
       "      <td>20.16</td>\n",
       "      <td>...</td>\n",
       "      <td>2296.41</td>\n",
       "      <td>0.0</td>\n",
       "      <td>0.0</td>\n",
       "      <td>0.0</td>\n",
       "      <td>0.0</td>\n",
       "      <td>96th week</td>\n",
       "      <td>0.0</td>\n",
       "      <td>47159.0</td>\n",
       "      <td>47033.0</td>\n",
       "      <td>0</td>\n",
       "    </tr>\n",
       "  </tbody>\n",
       "</table>\n",
       "<p>5 rows × 27 columns</p>\n",
       "</div>"
      ],
      "text/plain": [
       "   funded_amnt       term  int_rate   grade emp_length home_ownership  \\\n",
       "0        14350  36 months     19.19  others       High            OWN   \n",
       "1         4800  36 months     10.99       B        Low       MORTGAGE   \n",
       "2        10000  36 months      7.26       A        Low            OWN   \n",
       "3        15000  36 months     19.72       D       High           RENT   \n",
       "4        16000  36 months     10.64       B       High           RENT   \n",
       "\n",
       "   annual_inc verification_status             purpose    dti  ...  \\\n",
       "0     28700.0     Source Verified  debt_consolidation  33.88  ...   \n",
       "1     65000.0     Source Verified    home_improvement   3.64  ...   \n",
       "2     45000.0        Not Verified  debt_consolidation  18.42  ...   \n",
       "3    105000.0        Not Verified  debt_consolidation  14.97  ...   \n",
       "4     52000.0            Verified         credit_card  20.16  ...   \n",
       "\n",
       "   total_rec_int  total_rec_late_fee  recoveries  collection_recovery_fee  \\\n",
       "0        1173.84                 0.0         0.0                      0.0   \n",
       "1          83.95                 0.0         0.0                      0.0   \n",
       "2          56.47                 0.0         0.0                      0.0   \n",
       "3        4858.62                 0.0         0.0                      0.0   \n",
       "4        2296.41                 0.0         0.0                      0.0   \n",
       "\n",
       "   collections_12_mths_ex_med  last_week_pay tot_coll_amt  tot_cur_bal  \\\n",
       "0                         0.0      26th week          0.0      28699.0   \n",
       "1                         0.0       9th week          0.0       9974.0   \n",
       "2                         0.0       9th week         65.0      38295.0   \n",
       "3                         0.0     135th week          0.0      55564.0   \n",
       "4                         0.0      96th week          0.0      47159.0   \n",
       "\n",
       "   total_rev_hi_lim  loan_status  \n",
       "0           30800.0            0  \n",
       "1           32900.0            0  \n",
       "2           34900.0            0  \n",
       "3           24700.0            0  \n",
       "4           47033.0            0  \n",
       "\n",
       "[5 rows x 27 columns]"
      ]
     },
     "execution_count": 3,
     "metadata": {},
     "output_type": "execute_result"
    }
   ],
   "source": [
    "df1.head()"
   ]
  },
  {
   "cell_type": "code",
   "execution_count": 7,
   "id": "65a16245",
   "metadata": {},
   "outputs": [
    {
     "data": {
      "text/plain": [
       "funded_amnt                       0\n",
       "term                              0\n",
       "int_rate                          0\n",
       "grade                             0\n",
       "emp_length                        0\n",
       "home_ownership                    0\n",
       "annual_inc                        0\n",
       "verification_status               0\n",
       "purpose                           0\n",
       "dti                               0\n",
       "mths_since_last_delinq            0\n",
       "open_acc                          0\n",
       "pub_rec                           0\n",
       "revol_bal                         0\n",
       "revol_util                        0\n",
       "total_acc                         0\n",
       "initial_list_status               0\n",
       "total_rec_int                     0\n",
       "total_rec_late_fee                0\n",
       "recoveries                        0\n",
       "collection_recovery_fee           0\n",
       "collections_12_mths_ex_med        0\n",
       "last_week_pay                 10605\n",
       "tot_coll_amt                      0\n",
       "tot_cur_bal                       0\n",
       "total_rev_hi_lim                  0\n",
       "loan_status                       0\n",
       "dtype: int64"
      ]
     },
     "execution_count": 7,
     "metadata": {},
     "output_type": "execute_result"
    }
   ],
   "source": [
    "df1.isnull().sum()"
   ]
  },
  {
   "cell_type": "code",
   "execution_count": 5,
   "id": "593339b2",
   "metadata": {},
   "outputs": [],
   "source": [
    "df1['last_week_pay'] = df1['last_week_pay'].str.extract('(\\d+)', expand=False)"
   ]
  },
  {
   "cell_type": "code",
   "execution_count": 11,
   "id": "b62f8dad",
   "metadata": {},
   "outputs": [],
   "source": [
    "df1.fillna('10000',inplace=True)"
   ]
  },
  {
   "cell_type": "code",
   "execution_count": 13,
   "id": "f64591c7",
   "metadata": {},
   "outputs": [
    {
     "data": {
      "text/plain": [
       "0    13\n",
       "Name: last_week_pay, dtype: object"
      ]
     },
     "execution_count": 13,
     "metadata": {},
     "output_type": "execute_result"
    }
   ],
   "source": [
    "df1['last_week_pay'].mode()"
   ]
  },
  {
   "cell_type": "code",
   "execution_count": 14,
   "id": "d5ec2d9c",
   "metadata": {},
   "outputs": [],
   "source": [
    "df1['last_week_pay'] = df1['last_week_pay'].replace('10000','13' )"
   ]
  },
  {
   "cell_type": "code",
   "execution_count": 15,
   "id": "2f366501",
   "metadata": {},
   "outputs": [
    {
     "data": {
      "text/plain": [
       "array(['26', '9', '135', '96', '113', '117', '78', '44', '52', '95', '48',\n",
       "       '82', '35', '104', '17', '13', '31', '30', '70', '4', '91', '65',\n",
       "       '39', '83', '74', '22', '61', '156', '122', '174', '87', '139',\n",
       "       '0', '57', '131', '152', '43', '161', '56', '170', '157', '109',\n",
       "       '126', '100', '148', '265', '165', '261', '213', '222', '196',\n",
       "       '130', '144', '244', '204', '69', '217', '143', '191', '21', '226',\n",
       "       '18', '108', '79', '183', '178', '187', '252', '200', '118', '92',\n",
       "       '121', '209', '239', '248', '169', '153', '235', '256', '8', '182',\n",
       "       '230', '231', '257', '243', '205', '192', '270', '218', '283',\n",
       "       '300', '221', '291', '274', '269', '304'], dtype=object)"
      ]
     },
     "execution_count": 15,
     "metadata": {},
     "output_type": "execute_result"
    }
   ],
   "source": [
    "df1['last_week_pay'].unique()"
   ]
  },
  {
   "cell_type": "code",
   "execution_count": 6,
   "id": "b703be6e",
   "metadata": {},
   "outputs": [
    {
     "data": {
      "text/plain": [
       "array(['26', '9', '135', '96', '113', '117', '78', '44', '52', '95', '48',\n",
       "       '82', '35', '104', '17', '13', nan, '31', '30', '70', '4', '91',\n",
       "       '65', '39', '83', '74', '22', '61', '156', '122', '174', '87',\n",
       "       '139', '0', '57', '131', '152', '43', '161', '56', '170', '157',\n",
       "       '109', '126', '100', '148', '265', '165', '261', '213', '222',\n",
       "       '196', '130', '144', '244', '204', '69', '217', '143', '191', '21',\n",
       "       '226', '18', '108', '79', '183', '178', '187', '252', '200', '118',\n",
       "       '92', '121', '209', '239', '248', '169', '153', '235', '256', '8',\n",
       "       '182', '230', '231', '257', '243', '205', '192', '270', '218',\n",
       "       '283', '300', '221', '291', '274', '269', '304'], dtype=object)"
      ]
     },
     "execution_count": 6,
     "metadata": {},
     "output_type": "execute_result"
    }
   ],
   "source": [
    "df1['last_week_pay'].unique()"
   ]
  }
 ],
 "metadata": {
  "kernelspec": {
   "display_name": "Python 3 (ipykernel)",
   "language": "python",
   "name": "python3"
  },
  "language_info": {
   "codemirror_mode": {
    "name": "ipython",
    "version": 3
   },
   "file_extension": ".py",
   "mimetype": "text/x-python",
   "name": "python",
   "nbconvert_exporter": "python",
   "pygments_lexer": "ipython3",
   "version": "3.9.12"
  }
 },
 "nbformat": 4,
 "nbformat_minor": 5
}
