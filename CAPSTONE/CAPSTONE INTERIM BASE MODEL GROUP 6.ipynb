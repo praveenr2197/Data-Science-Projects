{
 "cells": [
  {
   "cell_type": "code",
   "execution_count": 1,
   "id": "b7dc23fe",
   "metadata": {},
   "outputs": [],
   "source": [
    "import pandas as pd \n",
    "\n",
    "import numpy as np\n",
    "\n",
    "import matplotlib.pyplot as plt\n",
    "from matplotlib.colors import ListedColormap\n",
    "\n",
    "import seaborn as sns\n",
    "\n",
    "from warnings import filterwarnings\n",
    "filterwarnings('ignore')\n",
    "\n",
    "pd.options.display.max_columns = None\n",
    "\n",
    "pd.options.display.max_rows = None\n",
    " \n",
    "pd.options.display.float_format = '{:.6f}'.format\n",
    "\n",
    "from sklearn.model_selection import train_test_split\n",
    "\n",
    "import statsmodels\n",
    "import statsmodels.api as sm\n",
    "\n",
    "from sklearn.preprocessing import StandardScaler\n",
    "\n",
    "from sklearn import metrics\n",
    "from sklearn.linear_model import LogisticRegression\n",
    "from sklearn.metrics import classification_report\n",
    "from sklearn.metrics import cohen_kappa_score\n",
    "from sklearn.metrics import confusion_matrix\n",
    "from sklearn.metrics import roc_curve\n",
    "from sklearn.metrics import accuracy_score\n",
    "plt.rcParams['figure.figsize'] = [15,8]"
   ]
  },
  {
   "cell_type": "code",
   "execution_count": 2,
   "id": "a0a8f07c",
   "metadata": {
    "scrolled": true
   },
   "outputs": [
    {
     "data": {
      "text/html": [
       "<div>\n",
       "<style scoped>\n",
       "    .dataframe tbody tr th:only-of-type {\n",
       "        vertical-align: middle;\n",
       "    }\n",
       "\n",
       "    .dataframe tbody tr th {\n",
       "        vertical-align: top;\n",
       "    }\n",
       "\n",
       "    .dataframe thead th {\n",
       "        text-align: right;\n",
       "    }\n",
       "</style>\n",
       "<table border=\"1\" class=\"dataframe\">\n",
       "  <thead>\n",
       "    <tr style=\"text-align: right;\">\n",
       "      <th></th>\n",
       "      <th>funded_amnt</th>\n",
       "      <th>term</th>\n",
       "      <th>int_rate</th>\n",
       "      <th>grade</th>\n",
       "      <th>emp_length</th>\n",
       "      <th>home_ownership</th>\n",
       "      <th>annual_inc</th>\n",
       "      <th>verification_status</th>\n",
       "      <th>purpose</th>\n",
       "      <th>dti</th>\n",
       "      <th>mths_since_last_delinq</th>\n",
       "      <th>open_acc</th>\n",
       "      <th>pub_rec</th>\n",
       "      <th>revol_bal</th>\n",
       "      <th>revol_util</th>\n",
       "      <th>total_acc</th>\n",
       "      <th>initial_list_status</th>\n",
       "      <th>total_rec_int</th>\n",
       "      <th>total_rec_late_fee</th>\n",
       "      <th>collections_12_mths_ex_med</th>\n",
       "      <th>tot_coll_amt</th>\n",
       "      <th>tot_cur_bal</th>\n",
       "      <th>total_rev_hi_lim</th>\n",
       "      <th>loan_status</th>\n",
       "      <th>rec_and_col_fee</th>\n",
       "      <th>emi_paid_progress_perc</th>\n",
       "    </tr>\n",
       "  </thead>\n",
       "  <tbody>\n",
       "    <tr>\n",
       "      <th>0</th>\n",
       "      <td>14350</td>\n",
       "      <td>36 months</td>\n",
       "      <td>19.190000</td>\n",
       "      <td>others</td>\n",
       "      <td>High</td>\n",
       "      <td>OWN</td>\n",
       "      <td>28700.000000</td>\n",
       "      <td>Verified</td>\n",
       "      <td>debt_consolidation</td>\n",
       "      <td>33.880000</td>\n",
       "      <td>50.000000</td>\n",
       "      <td>14</td>\n",
       "      <td>1</td>\n",
       "      <td>22515.000000</td>\n",
       "      <td>73.100000</td>\n",
       "      <td>28</td>\n",
       "      <td>f</td>\n",
       "      <td>1173.840000</td>\n",
       "      <td>0.000000</td>\n",
       "      <td>0.000000</td>\n",
       "      <td>0.000000</td>\n",
       "      <td>28699.000000</td>\n",
       "      <td>30800.000000</td>\n",
       "      <td>0</td>\n",
       "      <td>0.000000</td>\n",
       "      <td>16.560510</td>\n",
       "    </tr>\n",
       "    <tr>\n",
       "      <th>1</th>\n",
       "      <td>4800</td>\n",
       "      <td>36 months</td>\n",
       "      <td>10.990000</td>\n",
       "      <td>B</td>\n",
       "      <td>Low</td>\n",
       "      <td>MORTGAGE</td>\n",
       "      <td>65000.000000</td>\n",
       "      <td>Verified</td>\n",
       "      <td>home_improvement</td>\n",
       "      <td>3.640000</td>\n",
       "      <td>34.000000</td>\n",
       "      <td>6</td>\n",
       "      <td>0</td>\n",
       "      <td>7624.000000</td>\n",
       "      <td>23.200000</td>\n",
       "      <td>13</td>\n",
       "      <td>w</td>\n",
       "      <td>83.950000</td>\n",
       "      <td>0.000000</td>\n",
       "      <td>0.000000</td>\n",
       "      <td>0.000000</td>\n",
       "      <td>9974.000000</td>\n",
       "      <td>32900.000000</td>\n",
       "      <td>0</td>\n",
       "      <td>0.000000</td>\n",
       "      <td>5.732484</td>\n",
       "    </tr>\n",
       "    <tr>\n",
       "      <th>2</th>\n",
       "      <td>10000</td>\n",
       "      <td>36 months</td>\n",
       "      <td>7.260000</td>\n",
       "      <td>A</td>\n",
       "      <td>Low</td>\n",
       "      <td>OWN</td>\n",
       "      <td>45000.000000</td>\n",
       "      <td>Not Verified</td>\n",
       "      <td>debt_consolidation</td>\n",
       "      <td>18.420000</td>\n",
       "      <td>36.000000</td>\n",
       "      <td>5</td>\n",
       "      <td>0</td>\n",
       "      <td>10877.000000</td>\n",
       "      <td>31.200000</td>\n",
       "      <td>19</td>\n",
       "      <td>w</td>\n",
       "      <td>56.470000</td>\n",
       "      <td>0.000000</td>\n",
       "      <td>0.000000</td>\n",
       "      <td>65.000000</td>\n",
       "      <td>38295.000000</td>\n",
       "      <td>34900.000000</td>\n",
       "      <td>0</td>\n",
       "      <td>0.000000</td>\n",
       "      <td>5.732484</td>\n",
       "    </tr>\n",
       "    <tr>\n",
       "      <th>3</th>\n",
       "      <td>15000</td>\n",
       "      <td>36 months</td>\n",
       "      <td>19.720000</td>\n",
       "      <td>D</td>\n",
       "      <td>High</td>\n",
       "      <td>RENT</td>\n",
       "      <td>105000.000000</td>\n",
       "      <td>Not Verified</td>\n",
       "      <td>debt_consolidation</td>\n",
       "      <td>14.970000</td>\n",
       "      <td>46.000000</td>\n",
       "      <td>10</td>\n",
       "      <td>0</td>\n",
       "      <td>13712.000000</td>\n",
       "      <td>55.500000</td>\n",
       "      <td>21</td>\n",
       "      <td>f</td>\n",
       "      <td>4858.620000</td>\n",
       "      <td>0.000000</td>\n",
       "      <td>0.000000</td>\n",
       "      <td>0.000000</td>\n",
       "      <td>55564.000000</td>\n",
       "      <td>24700.000000</td>\n",
       "      <td>0</td>\n",
       "      <td>0.000000</td>\n",
       "      <td>85.987261</td>\n",
       "    </tr>\n",
       "    <tr>\n",
       "      <th>4</th>\n",
       "      <td>16000</td>\n",
       "      <td>36 months</td>\n",
       "      <td>10.640000</td>\n",
       "      <td>B</td>\n",
       "      <td>High</td>\n",
       "      <td>RENT</td>\n",
       "      <td>52000.000000</td>\n",
       "      <td>Verified</td>\n",
       "      <td>credit_card</td>\n",
       "      <td>20.160000</td>\n",
       "      <td>34.000000</td>\n",
       "      <td>11</td>\n",
       "      <td>0</td>\n",
       "      <td>35835.000000</td>\n",
       "      <td>76.200000</td>\n",
       "      <td>27</td>\n",
       "      <td>w</td>\n",
       "      <td>2296.410000</td>\n",
       "      <td>0.000000</td>\n",
       "      <td>0.000000</td>\n",
       "      <td>0.000000</td>\n",
       "      <td>47159.000000</td>\n",
       "      <td>47033.000000</td>\n",
       "      <td>0</td>\n",
       "      <td>0.000000</td>\n",
       "      <td>61.146497</td>\n",
       "    </tr>\n",
       "  </tbody>\n",
       "</table>\n",
       "</div>"
      ],
      "text/plain": [
       "   funded_amnt       term  int_rate   grade emp_length home_ownership  \\\n",
       "0        14350  36 months 19.190000  others       High            OWN   \n",
       "1         4800  36 months 10.990000       B        Low       MORTGAGE   \n",
       "2        10000  36 months  7.260000       A        Low            OWN   \n",
       "3        15000  36 months 19.720000       D       High           RENT   \n",
       "4        16000  36 months 10.640000       B       High           RENT   \n",
       "\n",
       "     annual_inc verification_status             purpose       dti  \\\n",
       "0  28700.000000            Verified  debt_consolidation 33.880000   \n",
       "1  65000.000000            Verified    home_improvement  3.640000   \n",
       "2  45000.000000        Not Verified  debt_consolidation 18.420000   \n",
       "3 105000.000000        Not Verified  debt_consolidation 14.970000   \n",
       "4  52000.000000            Verified         credit_card 20.160000   \n",
       "\n",
       "   mths_since_last_delinq  open_acc  pub_rec    revol_bal  revol_util  \\\n",
       "0               50.000000        14        1 22515.000000   73.100000   \n",
       "1               34.000000         6        0  7624.000000   23.200000   \n",
       "2               36.000000         5        0 10877.000000   31.200000   \n",
       "3               46.000000        10        0 13712.000000   55.500000   \n",
       "4               34.000000        11        0 35835.000000   76.200000   \n",
       "\n",
       "   total_acc initial_list_status  total_rec_int  total_rec_late_fee  \\\n",
       "0         28                   f    1173.840000            0.000000   \n",
       "1         13                   w      83.950000            0.000000   \n",
       "2         19                   w      56.470000            0.000000   \n",
       "3         21                   f    4858.620000            0.000000   \n",
       "4         27                   w    2296.410000            0.000000   \n",
       "\n",
       "   collections_12_mths_ex_med  tot_coll_amt  tot_cur_bal  total_rev_hi_lim  \\\n",
       "0                    0.000000      0.000000 28699.000000      30800.000000   \n",
       "1                    0.000000      0.000000  9974.000000      32900.000000   \n",
       "2                    0.000000     65.000000 38295.000000      34900.000000   \n",
       "3                    0.000000      0.000000 55564.000000      24700.000000   \n",
       "4                    0.000000      0.000000 47159.000000      47033.000000   \n",
       "\n",
       "   loan_status  rec_and_col_fee  emi_paid_progress_perc  \n",
       "0            0         0.000000               16.560510  \n",
       "1            0         0.000000                5.732484  \n",
       "2            0         0.000000                5.732484  \n",
       "3            0         0.000000               85.987261  \n",
       "4            0         0.000000               61.146497  "
      ]
     },
     "execution_count": 2,
     "metadata": {},
     "output_type": "execute_result"
    }
   ],
   "source": [
    "df = pd.read_csv('data_mm_transf-.csv')\n",
    "df.head()"
   ]
  },
  {
   "cell_type": "markdown",
   "id": "688ce496",
   "metadata": {},
   "source": [
    "### Split the dependent and independent variables"
   ]
  },
  {
   "cell_type": "code",
   "execution_count": 3,
   "id": "e1866995",
   "metadata": {},
   "outputs": [],
   "source": [
    "df_target = df['loan_status']\n",
    "\n",
    "df_feature = df.drop('loan_status', axis = 1)"
   ]
  },
  {
   "cell_type": "markdown",
   "id": "2db0e84f",
   "metadata": {},
   "source": [
    "## Distribution of dependent variable."
   ]
  },
  {
   "cell_type": "code",
   "execution_count": 4,
   "id": "3cced5d9",
   "metadata": {},
   "outputs": [
    {
     "data": {
      "text/plain": [
       "0    406389\n",
       "1    125668\n",
       "Name: loan_status, dtype: int64"
      ]
     },
     "execution_count": 4,
     "metadata": {},
     "output_type": "execute_result"
    }
   ],
   "source": [
    "df_target.value_counts()"
   ]
  },
  {
   "cell_type": "code",
   "execution_count": 5,
   "id": "8db772c8",
   "metadata": {},
   "outputs": [
    {
     "data": {
      "image/png": "[encoded data removed]",
      "text/plain": [
       "<Figure size 1080x576 with 1 Axes>"
      ]
     },
     "metadata": {
      "needs_background": "light"
     },
     "output_type": "display_data"
    }
   ],
   "source": [
    "sns.countplot(x = df_target)\n",
    "\n",
    "\n",
    "plt.text(x = -0.05, y = df_target.value_counts()[0] + 1, s = str(round((df_target.value_counts()[0])*100/len(df_target),2)) + '%')\n",
    "plt.text(x = 0.95, y = df_target.value_counts()[1] +1, s = str(round((df_target.value_counts()[1])*100/len(df_target),2)) + '%')\n",
    "\n",
    "\n",
    "plt.title('Count Plot for Target Variable (Loan Status)', fontsize = 15)\n",
    "plt.xlabel('Target Variable', fontsize = 15)\n",
    "plt.ylabel('Count', fontsize = 15)\n",
    "\n",
    "\n",
    "plt.show()"
   ]
  },
  {
   "cell_type": "markdown",
   "id": "750f7191",
   "metadata": {},
   "source": [
    "#### <span style=\"color:#1c474d\">\n",
    "76.38% people are non-defaulters, 23.62% are defaulters in the target variable 'loan_status'\n",
    "</span>"
   ]
  },
  {
   "cell_type": "markdown",
   "id": "4653baa4",
   "metadata": {},
   "source": [
    "## Filter numerical and categorical variables."
   ]
  },
  {
   "cell_type": "code",
   "execution_count": 6,
   "id": "66d5a434",
   "metadata": {},
   "outputs": [
    {
     "data": {
      "text/plain": [
       "Index(['funded_amnt', 'int_rate', 'annual_inc', 'dti',\n",
       "       'mths_since_last_delinq', 'open_acc', 'pub_rec', 'revol_bal',\n",
       "       'revol_util', 'total_acc', 'total_rec_int', 'total_rec_late_fee',\n",
       "       'collections_12_mths_ex_med', 'tot_coll_amt', 'tot_cur_bal',\n",
       "       'total_rev_hi_lim', 'rec_and_col_fee', 'emi_paid_progress_perc'],\n",
       "      dtype='object')"
      ]
     },
     "execution_count": 6,
     "metadata": {},
     "output_type": "execute_result"
    }
   ],
   "source": [
    "num_f = df_feature.select_dtypes(include=[np.number])\n",
    "\n",
    "num_f.columns"
   ]
  },
  {
   "cell_type": "code",
   "execution_count": 7,
   "id": "9656d039",
   "metadata": {},
   "outputs": [
    {
     "data": {
      "text/plain": [
       "Index(['term', 'grade', 'emp_length', 'home_ownership', 'verification_status',\n",
       "       'purpose', 'initial_list_status'],\n",
       "      dtype='object')"
      ]
     },
     "execution_count": 7,
     "metadata": {},
     "output_type": "execute_result"
    }
   ],
   "source": [
    "cat_f = df_feature.select_dtypes(exclude=[np.number])\n",
    "cat_f.columns"
   ]
  },
  {
   "cell_type": "markdown",
   "id": "636de181",
   "metadata": {},
   "source": [
    "## Dummy Encode the Categorical Variables"
   ]
  },
  {
   "cell_type": "code",
   "execution_count": 8,
   "id": "de75317d",
   "metadata": {},
   "outputs": [],
   "source": [
    "df_cat = pd.get_dummies(cat_f, drop_first=True)"
   ]
  },
  {
   "cell_type": "markdown",
   "id": "654543a4",
   "metadata": {},
   "source": [
    "## Scale the Data"
   ]
  },
  {
   "cell_type": "markdown",
   "id": "de646a95",
   "metadata": {},
   "source": [
    "We scale the variables to get all the variables in the same range. With this, we can avoid a problem in which some features come to dominate solely because they tend to have larger values than others."
   ]
  },
  {
   "cell_type": "code",
   "execution_count": 9,
   "id": "0e390de2",
   "metadata": {},
   "outputs": [],
   "source": [
    "X_scaler = StandardScaler()\n",
    "\n",
    "num_scaled = X_scaler.fit_transform(num_f)\n",
    "\n",
    "df_num_scaled = pd.DataFrame(num_scaled, columns = num_f.columns)"
   ]
  },
  {
   "cell_type": "markdown",
   "id": "a599ec25",
   "metadata": {},
   "source": [
    "#### Concatenating scaled numerical and dummy encoded categorical variables"
   ]
  },
  {
   "cell_type": "code",
   "execution_count": 10,
   "id": "404bc4b8",
   "metadata": {},
   "outputs": [
    {
     "data": {
      "text/plain": [
       "(532057, 33)"
      ]
     },
     "execution_count": 10,
     "metadata": {},
     "output_type": "execute_result"
    }
   ],
   "source": [
    "df_features = pd.concat([df_cat,df_num_scaled], axis =1)\n",
    "df_features.shape"
   ]
  },
  {
   "cell_type": "markdown",
   "id": "47edccf7",
   "metadata": {},
   "source": [
    "## Train-Test Split"
   ]
  },
  {
   "cell_type": "markdown",
   "id": "b69d0f36",
   "metadata": {},
   "source": [
    "Before applying various classification techniques to predict the loan status of the customers, we split the dataset in train and test set."
   ]
  },
  {
   "cell_type": "code",
   "execution_count": 11,
   "id": "697f5aa6",
   "metadata": {},
   "outputs": [
    {
     "name": "stdout",
     "output_type": "stream",
     "text": [
      "x_train:  (372439, 34)\n",
      "y_train:  (372439,)\n",
      "x_test:  (159618, 34)\n",
      "y_test:  (159618,)\n"
     ]
    }
   ],
   "source": [
    "df_1 = sm.add_constant(df_features)\n",
    "\n",
    "x_train, x_test ,y_train ,y_test = train_test_split(df_1,df_target, random_state=1, test_size=0.3)\n",
    "\n",
    "\n",
    "print('x_train: ',x_train.shape)\n",
    "print('y_train: ',y_train.shape)\n",
    "print('x_test: ',x_test.shape)\n",
    "print('y_test: ',y_test.shape)"
   ]
  },
  {
   "cell_type": "markdown",
   "id": "f2610c73",
   "metadata": {},
   "source": [
    "#### Create a generalized function to create a dataframe containing the scores for the models."
   ]
  },
  {
   "cell_type": "code",
   "execution_count": 12,
   "id": "4b21e08f",
   "metadata": {},
   "outputs": [],
   "source": [
    "score_card = pd.DataFrame(columns=['Probability Cutoff', 'AUC Score', 'Precision Score', 'Recall Score',\n",
    "                                       'Accuracy Score', 'Kappa Score', 'f1-score'])\n",
    "\n",
    "def update_score_card(model, cutoff):\n",
    "    \n",
    "    # let 'y_pred_prob' be the predicted values of y\n",
    "    y_pred_prob = logreg.predict(x_test)\n",
    "\n",
    "    # convert probabilities to 0 and 1 using 'if_else'\n",
    "    y_pred = [ 0 if x < cutoff else 1 for x in y_pred_prob]\n",
    "    \n",
    "    # assign 'score_card' as global variable\n",
    "    global score_card\n",
    "\n",
    "    # append the results to the dataframe 'score_card'\n",
    "    # 'ignore_index = True' do not consider the index labels\n",
    "    score_card = score_card.append({'Probability Cutoff': cutoff,\n",
    "                                    'AUC Score' : metrics.roc_auc_score(y_test, y_pred_prob),\n",
    "                                    'Precision Score': metrics.precision_score(y_test, y_pred),\n",
    "                                    'Recall Score': metrics.recall_score(y_test, y_pred),\n",
    "                                    'Accuracy Score': metrics.accuracy_score(y_test, y_pred),\n",
    "                                    'Kappa Score':metrics.cohen_kappa_score(y_test, y_pred),\n",
    "                                    'f1-score': metrics.f1_score(y_test, y_pred)}, \n",
    "                                    ignore_index = True)"
   ]
  },
  {
   "cell_type": "markdown",
   "id": "125cabb6",
   "metadata": {},
   "source": [
    "## Logistic Regression (Full Model)"
   ]
  },
  {
   "cell_type": "markdown",
   "id": "e1cb9ecc",
   "metadata": {},
   "source": [
    "#### Build a full logistic model on a training dataset"
   ]
  },
  {
   "cell_type": "code",
   "execution_count": 13,
   "id": "b271e1d8",
   "metadata": {},
   "outputs": [
    {
     "name": "stdout",
     "output_type": "stream",
     "text": [
      "Warning: Maximum number of iterations has been exceeded.\n",
      "         Current function value: 0.458857\n",
      "         Iterations: 35\n"
     ]
    },
    {
     "name": "stderr",
     "output_type": "stream",
     "text": [
      "C:\\Users\\User\\anaconda3\\lib\\site-packages\\statsmodels\\base\\model.py:604: ConvergenceWarning: Maximum Likelihood optimization failed to converge. Check mle_retvals\n",
      "  warnings.warn(\"Maximum Likelihood optimization failed to \"\n"
     ]
    },
    {
     "name": "stdout",
     "output_type": "stream",
     "text": [
      "                           Logit Regression Results                           \n",
      "==============================================================================\n",
      "Dep. Variable:            loan_status   No. Observations:               372439\n",
      "Model:                          Logit   Df Residuals:                   372405\n",
      "Method:                           MLE   Df Model:                           33\n",
      "Date:                Fri, 12 Aug 2022   Pseudo R-squ.:                  0.1614\n",
      "Time:                        20:10:27   Log-Likelihood:            -1.7090e+05\n",
      "converged:                      False   LL-Null:                   -2.0380e+05\n",
      "Covariance Type:            nonrobust   LLR p-value:                     0.000\n",
      "================================================================================================\n",
      "                                   coef    std err          z      P>|z|      [0.025      0.975]\n",
      "------------------------------------------------------------------------------------------------\n",
      "const                          -48.2482     69.097     -0.698      0.485    -183.676      87.179\n",
      "term_60 months                  -0.2542      0.013    -19.589      0.000      -0.280      -0.229\n",
      "grade_B                         -0.7825      0.017    -45.210      0.000      -0.816      -0.749\n",
      "grade_C                         -1.5258      0.025    -60.699      0.000      -1.575      -1.477\n",
      "grade_D                         -2.2127      0.035    -64.122      0.000      -2.280      -2.145\n",
      "grade_others                    -3.0440      0.048    -63.856      0.000      -3.137      -2.951\n",
      "emp_length_Low                   0.0960      0.010      9.264      0.000       0.076       0.116\n",
      "emp_length_Medium                0.0722      0.011      6.803      0.000       0.051       0.093\n",
      "home_ownership_OTHERS            2.4443      0.364      6.721      0.000       1.732       3.157\n",
      "home_ownership_OWN              -0.2077      0.016    -13.184      0.000      -0.239      -0.177\n",
      "home_ownership_RENT             -0.1300      0.011    -12.213      0.000      -0.151      -0.109\n",
      "verification_status_Verified    -0.1192      0.010    -12.240      0.000      -0.138      -0.100\n",
      "purpose_debt_consolidation       0.1358      0.011     12.430      0.000       0.114       0.157\n",
      "purpose_home_improvement         0.0223      0.020      1.094      0.274      -0.018       0.062\n",
      "purpose_other                    0.1796      0.016     11.378      0.000       0.149       0.211\n",
      "initial_list_status_w           -0.8174      0.009    -87.868      0.000      -0.836      -0.799\n",
      "funded_amnt                      0.0271      0.007      4.024      0.000       0.014       0.040\n",
      "int_rate                         1.1523      0.014     81.905      0.000       1.125       1.180\n",
      "annual_inc                      -0.0050      0.005     -1.021      0.307      -0.015       0.005\n",
      "dti                             -0.2918      0.005    -57.314      0.000      -0.302      -0.282\n",
      "mths_since_last_delinq           0.0702      0.004     16.453      0.000       0.062       0.079\n",
      "open_acc                        -0.2135      0.007    -32.806      0.000      -0.226      -0.201\n",
      "pub_rec                         -0.1944      0.006    -33.708      0.000      -0.206      -0.183\n",
      "revol_bal                        0.1129      0.009     11.936      0.000       0.094       0.131\n",
      "revol_util                      -0.1688      0.006    -30.471      0.000      -0.180      -0.158\n",
      "total_acc                        0.3005      0.006     50.096      0.000       0.289       0.312\n",
      "total_rec_int                   -0.2645      0.007    -35.592      0.000      -0.279      -0.250\n",
      "total_rec_late_fee              -0.0331      0.005     -6.922      0.000      -0.042      -0.024\n",
      "collections_12_mths_ex_med      -0.0940      0.006    -15.341      0.000      -0.106      -0.082\n",
      "tot_coll_amt                    -0.1214      0.008    -14.494      0.000      -0.138      -0.105\n",
      "tot_cur_bal                     -0.0125      0.006     -2.169      0.030      -0.024      -0.001\n",
      "total_rev_hi_lim                -0.1148      0.012     -9.823      0.000      -0.138      -0.092\n",
      "rec_and_col_fee               -444.7749    631.033     -0.705      0.481   -1681.576     792.027\n",
      "emi_paid_progress_perc           0.5157      0.005     93.852      0.000       0.505       0.526\n",
      "================================================================================================\n"
     ]
    }
   ],
   "source": [
    "logreg = sm.Logit(y_train,x_train).fit()\n",
    "\n",
    "print(logreg.summary())"
   ]
  },
  {
   "cell_type": "code",
   "execution_count": 14,
   "id": "056874df",
   "metadata": {},
   "outputs": [],
   "source": [
    "insignificant = pd.DataFrame(logreg.pvalues[logreg.pvalues>0.05][1:],columns=['p_value'])"
   ]
  },
  {
   "cell_type": "code",
   "execution_count": 15,
   "id": "33fce148",
   "metadata": {},
   "outputs": [
    {
     "name": "stdout",
     "output_type": "stream",
     "text": [
      "['purpose_home_improvement', 'annual_inc', 'rec_and_col_fee']\n"
     ]
    }
   ],
   "source": [
    "print([i for i in insignificant.index])"
   ]
  },
  {
   "cell_type": "markdown",
   "id": "b49a8f5a",
   "metadata": {},
   "source": [
    "#### <span style=\"color:#1c474d\">\n",
    "1. Pseudo R-squ. of the model is : 0.1614\n",
    "    \n",
    "2. Log-Likelihood of the model is : -1.7090e+05\n",
    "    \n",
    "3. Log-Likelihood of the NULL model is : -2.0380e+05\n",
    "    \n",
    "    We expect the Log-Likelihood of our model to be greater than the Log-Likelihood of null model !\n",
    "    \n",
    "    \n",
    "4. LLR p-value of the model is : 0.000\n",
    "       Since, LLR p-value < 0.05, we reject the null Hypothesis and accept Alternate Hypothesis.\n",
    "       i.e. There exist atleast one significant feature in our model !      \n",
    "                                 \n",
    "5. The insignificant features are 'purpose_home_improvement',annual_inc','rec_and_col_fee'\n",
    "</span>"
   ]
  },
  {
   "cell_type": "markdown",
   "id": "0f76548c",
   "metadata": {},
   "source": [
    "#### AIC (Akaike Information Criterion) value."
   ]
  },
  {
   "cell_type": "markdown",
   "id": "497dc281",
   "metadata": {},
   "source": [
    "It is a relative measure of model evaluation. It gives a trade-off between model accuracy and model complexity."
   ]
  },
  {
   "cell_type": "code",
   "execution_count": 16,
   "id": "cb17ab05",
   "metadata": {},
   "outputs": [
    {
     "name": "stdout",
     "output_type": "stream",
     "text": [
      "AIC: 341860.12227284646\n"
     ]
    }
   ],
   "source": [
    "print('AIC:', logreg.aic)"
   ]
  },
  {
   "cell_type": "markdown",
   "id": "76e7e338",
   "metadata": {},
   "source": [
    "###  The odds for each variable"
   ]
  },
  {
   "cell_type": "code",
   "execution_count": 17,
   "id": "1be416e9",
   "metadata": {},
   "outputs": [
    {
     "data": {
      "text/html": [
       "<div>\n",
       "<style scoped>\n",
       "    .dataframe tbody tr th:only-of-type {\n",
       "        vertical-align: middle;\n",
       "    }\n",
       "\n",
       "    .dataframe tbody tr th {\n",
       "        vertical-align: top;\n",
       "    }\n",
       "\n",
       "    .dataframe thead th {\n",
       "        text-align: right;\n",
       "    }\n",
       "</style>\n",
       "<table border=\"1\" class=\"dataframe\">\n",
       "  <thead>\n",
       "    <tr style=\"text-align: right;\">\n",
       "      <th></th>\n",
       "      <th>Odds</th>\n",
       "    </tr>\n",
       "  </thead>\n",
       "  <tbody>\n",
       "    <tr>\n",
       "      <th>const</th>\n",
       "      <td>0.000000</td>\n",
       "    </tr>\n",
       "    <tr>\n",
       "      <th>term_60 months</th>\n",
       "      <td>0.775555</td>\n",
       "    </tr>\n",
       "    <tr>\n",
       "      <th>grade_B</th>\n",
       "      <td>0.457279</td>\n",
       "    </tr>\n",
       "    <tr>\n",
       "      <th>grade_C</th>\n",
       "      <td>0.217451</td>\n",
       "    </tr>\n",
       "    <tr>\n",
       "      <th>grade_D</th>\n",
       "      <td>0.109402</td>\n",
       "    </tr>\n",
       "    <tr>\n",
       "      <th>grade_others</th>\n",
       "      <td>0.047643</td>\n",
       "    </tr>\n",
       "    <tr>\n",
       "      <th>emp_length_Low</th>\n",
       "      <td>1.100759</td>\n",
       "    </tr>\n",
       "    <tr>\n",
       "      <th>emp_length_Medium</th>\n",
       "      <td>1.074842</td>\n",
       "    </tr>\n",
       "    <tr>\n",
       "      <th>home_ownership_OTHERS</th>\n",
       "      <td>11.522067</td>\n",
       "    </tr>\n",
       "    <tr>\n",
       "      <th>home_ownership_OWN</th>\n",
       "      <td>0.812415</td>\n",
       "    </tr>\n",
       "    <tr>\n",
       "      <th>home_ownership_RENT</th>\n",
       "      <td>0.878082</td>\n",
       "    </tr>\n",
       "    <tr>\n",
       "      <th>verification_status_Verified</th>\n",
       "      <td>0.887634</td>\n",
       "    </tr>\n",
       "    <tr>\n",
       "      <th>purpose_debt_consolidation</th>\n",
       "      <td>1.145509</td>\n",
       "    </tr>\n",
       "    <tr>\n",
       "      <th>purpose_home_improvement</th>\n",
       "      <td>1.022523</td>\n",
       "    </tr>\n",
       "    <tr>\n",
       "      <th>purpose_other</th>\n",
       "      <td>1.196750</td>\n",
       "    </tr>\n",
       "    <tr>\n",
       "      <th>initial_list_status_w</th>\n",
       "      <td>0.441563</td>\n",
       "    </tr>\n",
       "    <tr>\n",
       "      <th>funded_amnt</th>\n",
       "      <td>1.027445</td>\n",
       "    </tr>\n",
       "    <tr>\n",
       "      <th>int_rate</th>\n",
       "      <td>3.165497</td>\n",
       "    </tr>\n",
       "    <tr>\n",
       "      <th>annual_inc</th>\n",
       "      <td>0.995013</td>\n",
       "    </tr>\n",
       "    <tr>\n",
       "      <th>dti</th>\n",
       "      <td>0.746931</td>\n",
       "    </tr>\n",
       "    <tr>\n",
       "      <th>mths_since_last_delinq</th>\n",
       "      <td>1.072690</td>\n",
       "    </tr>\n",
       "    <tr>\n",
       "      <th>open_acc</th>\n",
       "      <td>0.807730</td>\n",
       "    </tr>\n",
       "    <tr>\n",
       "      <th>pub_rec</th>\n",
       "      <td>0.823302</td>\n",
       "    </tr>\n",
       "    <tr>\n",
       "      <th>revol_bal</th>\n",
       "      <td>1.119490</td>\n",
       "    </tr>\n",
       "    <tr>\n",
       "      <th>revol_util</th>\n",
       "      <td>0.844694</td>\n",
       "    </tr>\n",
       "    <tr>\n",
       "      <th>total_acc</th>\n",
       "      <td>1.350553</td>\n",
       "    </tr>\n",
       "    <tr>\n",
       "      <th>total_rec_int</th>\n",
       "      <td>0.767577</td>\n",
       "    </tr>\n",
       "    <tr>\n",
       "      <th>total_rec_late_fee</th>\n",
       "      <td>0.967483</td>\n",
       "    </tr>\n",
       "    <tr>\n",
       "      <th>collections_12_mths_ex_med</th>\n",
       "      <td>0.910315</td>\n",
       "    </tr>\n",
       "    <tr>\n",
       "      <th>tot_coll_amt</th>\n",
       "      <td>0.885653</td>\n",
       "    </tr>\n",
       "    <tr>\n",
       "      <th>tot_cur_bal</th>\n",
       "      <td>0.987619</td>\n",
       "    </tr>\n",
       "    <tr>\n",
       "      <th>total_rev_hi_lim</th>\n",
       "      <td>0.891549</td>\n",
       "    </tr>\n",
       "    <tr>\n",
       "      <th>rec_and_col_fee</th>\n",
       "      <td>0.000000</td>\n",
       "    </tr>\n",
       "    <tr>\n",
       "      <th>emi_paid_progress_perc</th>\n",
       "      <td>1.674768</td>\n",
       "    </tr>\n",
       "  </tbody>\n",
       "</table>\n",
       "</div>"
      ],
      "text/plain": [
       "                                  Odds\n",
       "const                         0.000000\n",
       "term_60 months                0.775555\n",
       "grade_B                       0.457279\n",
       "grade_C                       0.217451\n",
       "grade_D                       0.109402\n",
       "grade_others                  0.047643\n",
       "emp_length_Low                1.100759\n",
       "emp_length_Medium             1.074842\n",
       "home_ownership_OTHERS        11.522067\n",
       "home_ownership_OWN            0.812415\n",
       "home_ownership_RENT           0.878082\n",
       "verification_status_Verified  0.887634\n",
       "purpose_debt_consolidation    1.145509\n",
       "purpose_home_improvement      1.022523\n",
       "purpose_other                 1.196750\n",
       "initial_list_status_w         0.441563\n",
       "funded_amnt                   1.027445\n",
       "int_rate                      3.165497\n",
       "annual_inc                    0.995013\n",
       "dti                           0.746931\n",
       "mths_since_last_delinq        1.072690\n",
       "open_acc                      0.807730\n",
       "pub_rec                       0.823302\n",
       "revol_bal                     1.119490\n",
       "revol_util                    0.844694\n",
       "total_acc                     1.350553\n",
       "total_rec_int                 0.767577\n",
       "total_rec_late_fee            0.967483\n",
       "collections_12_mths_ex_med    0.910315\n",
       "tot_coll_amt                  0.885653\n",
       "tot_cur_bal                   0.987619\n",
       "total_rev_hi_lim              0.891549\n",
       "rec_and_col_fee               0.000000\n",
       "emi_paid_progress_perc        1.674768"
      ]
     },
     "execution_count": 17,
     "metadata": {},
     "output_type": "execute_result"
    }
   ],
   "source": [
    "df_odds = pd.DataFrame(np.exp(logreg.params), columns= ['Odds']) \n",
    "df_odds"
   ]
  },
  {
   "cell_type": "markdown",
   "id": "e6e55ea1",
   "metadata": {},
   "source": [
    "###  Prediction"
   ]
  },
  {
   "cell_type": "code",
   "execution_count": 18,
   "id": "2d683077",
   "metadata": {},
   "outputs": [
    {
     "data": {
      "text/plain": [
       "189102   0.354066\n",
       "341768   0.217883\n",
       "344879   0.188036\n",
       "363549   0.059453\n",
       "106309   0.112963\n",
       "dtype: float64"
      ]
     },
     "execution_count": 18,
     "metadata": {},
     "output_type": "execute_result"
    }
   ],
   "source": [
    "y_pred_prob = logreg.predict(x_test)\n",
    "\n",
    "y_pred_prob.head()"
   ]
  },
  {
   "cell_type": "markdown",
   "id": "6295748f",
   "metadata": {},
   "source": [
    "Since the target variable can take only two values either 0 or 1. We decide the cut-off of 0.5. i.e. if 'y_pred_prob' is less than 0.5, then consider it to be 0 else consider it to be 1."
   ]
  },
  {
   "cell_type": "code",
   "execution_count": 19,
   "id": "026644dd",
   "metadata": {},
   "outputs": [],
   "source": [
    "y_pred = [ 0 if x < 0.5 else 1 for x in y_pred_prob]"
   ]
  },
  {
   "cell_type": "code",
   "execution_count": 20,
   "id": "a7a6d4c5",
   "metadata": {},
   "outputs": [
    {
     "data": {
      "text/plain": [
       "[0, 0, 0, 0, 0]"
      ]
     },
     "execution_count": 20,
     "metadata": {},
     "output_type": "execute_result"
    }
   ],
   "source": [
    "# print the first five observations of y_pred\n",
    "y_pred[0:5]"
   ]
  },
  {
   "cell_type": "markdown",
   "id": "a87f828a",
   "metadata": {},
   "source": [
    "### Plot the confusion matrix."
   ]
  },
  {
   "cell_type": "code",
   "execution_count": 21,
   "id": "03b8b0d0",
   "metadata": {},
   "outputs": [
    {
     "data": {
      "image/png": "[encoded data removed]",
      "text/plain": [
       "<Figure size 1080x576 with 1 Axes>"
      ]
     },
     "metadata": {
      "needs_background": "light"
     },
     "output_type": "display_data"
    }
   ],
   "source": [
    "cm = confusion_matrix(y_test, y_pred)\n",
    "\n",
    "conf_matrix = pd.DataFrame(data = cm,columns = ['Predicted:0','Predicted:1'], index = ['Actual:0','Actual:1'])\n",
    "\n",
    "sns.heatmap(conf_matrix, annot = True, fmt = 'd', cmap = ListedColormap(['lightskyblue']), cbar = False, \n",
    "            linewidths = 0.1, annot_kws = {'size':25})\n",
    "\n",
    "plt.xticks(fontsize = 20)\n",
    "\n",
    "\n",
    "plt.yticks(fontsize = 20)\n",
    "\n",
    "plt.show()"
   ]
  },
  {
   "cell_type": "code",
   "execution_count": 22,
   "id": "1472d1e7",
   "metadata": {},
   "outputs": [],
   "source": [
    "TN = cm[0,0]\n",
    "\n",
    "TP = cm[1,1]\n",
    "\n",
    "FP = cm[0,1]\n",
    "\n",
    "FN = cm[1,0]"
   ]
  },
  {
   "cell_type": "code",
   "execution_count": 23,
   "id": "8e543316",
   "metadata": {},
   "outputs": [
    {
     "name": "stdout",
     "output_type": "stream",
     "text": [
      "True Negative :  115279\n",
      "True Positive :  10236\n",
      "False Positive :  6810\n",
      "False Negative :  27293\n"
     ]
    }
   ],
   "source": [
    "print('True Negative : ', TN)\n",
    "print('True Positive : ',TP)\n",
    "print('False Positive : ',FP)\n",
    "print('False Negative : ',FN)"
   ]
  },
  {
   "cell_type": "code",
   "execution_count": 24,
   "id": "1494b69e",
   "metadata": {},
   "outputs": [
    {
     "name": "stdout",
     "output_type": "stream",
     "text": [
      "              precision    recall  f1-score   support\n",
      "\n",
      "           0       0.81      0.94      0.87    122089\n",
      "           1       0.60      0.27      0.38     37529\n",
      "\n",
      "    accuracy                           0.79    159618\n",
      "   macro avg       0.70      0.61      0.62    159618\n",
      "weighted avg       0.76      0.79      0.75    159618\n",
      "\n"
     ]
    }
   ],
   "source": [
    "acc_table = classification_report(y_test, y_pred)\n",
    "\n",
    "print(acc_table)"
   ]
  },
  {
   "cell_type": "markdown",
   "id": "b545aeca",
   "metadata": {},
   "source": [
    "Since, we wouldnt want to wrongly classify the actual defaulters as non defaulters i.e reduce Type-II Error as much as possible. \n",
    "This can be done by focussing on the recall i.e. 0.27 for the model, since it is a component of Type-II Error which effects the prediction of the model."
   ]
  },
  {
   "cell_type": "markdown",
   "id": "11f72a59",
   "metadata": {},
   "source": [
    "### Kappa score"
   ]
  },
  {
   "cell_type": "code",
   "execution_count": 25,
   "id": "b735ba17",
   "metadata": {},
   "outputs": [
    {
     "name": "stdout",
     "output_type": "stream",
     "text": [
      "kappa value: 0.26753735586122906\n"
     ]
    }
   ],
   "source": [
    "# compute the kappa value\n",
    "kappa = cohen_kappa_score(y_test, y_pred)\n",
    "\n",
    "# print the kappa value\n",
    "print('kappa value:',kappa)"
   ]
  },
  {
   "cell_type": "markdown",
   "id": "caa96de6",
   "metadata": {},
   "source": [
    "The inter-rater reliability of the model is very low. thus, we can't rely on this model."
   ]
  },
  {
   "cell_type": "markdown",
   "id": "af67fcda",
   "metadata": {},
   "source": [
    "### Plot the ROC curve"
   ]
  },
  {
   "cell_type": "markdown",
   "id": "099545c9",
   "metadata": {},
   "source": [
    "ROC curve is plotted with the true positive rate (tpr) on the y-axis and false positive rate (fpr) on the x-axis. The area under this curve is used as a measure of separability of the model."
   ]
  },
  {
   "cell_type": "code",
   "execution_count": 26,
   "id": "cbeb9b3e",
   "metadata": {},
   "outputs": [
    {
     "data": {
      "image/png": "[encoded data removed]",
      "text/plain": [
       "<Figure size 1080x576 with 1 Axes>"
      ]
     },
     "metadata": {
      "needs_background": "light"
     },
     "output_type": "display_data"
    }
   ],
   "source": [
    "fpr, tpr, thresholds = roc_curve(y_test, y_pred_prob)\n",
    "\n",
    "plt.plot(fpr, tpr)\n",
    "\n",
    "plt.xlim([0.0, 1.0])\n",
    "plt.ylim([0.0, 1.0])\n",
    "\n",
    "plt.plot([0, 1], [0, 1],'r--')\n",
    "\n",
    "# add plot and axes labels\n",
    "# set text size using 'fontsize'\n",
    "plt.title('ROC curve for LOAN DEFAULTER Classifier (Full Model)', fontsize = 15)\n",
    "plt.xlabel('False positive rate (1-Specificity)', fontsize = 15)\n",
    "plt.ylabel('True positive rate (Sensitivity)', fontsize = 15)\n",
    "\n",
    "# add the AUC score to the plot\n",
    "# 'x' and 'y' gives position of the text\n",
    "# 's' is the text \n",
    "# use round() to round-off the AUC score upto 4 digits\n",
    "plt.text(x = 0.02, y = 0.9, s = ('AUC Score:', round(metrics.roc_auc_score(y_test, y_pred_prob),4)))\n",
    "                               \n",
    "# plot the grid\n",
    "plt.grid(True)"
   ]
  },
  {
   "cell_type": "markdown",
   "id": "4bafa5ad",
   "metadata": {},
   "source": [
    "### Interpretation: \n",
    "The red dotted line represents the ROC curve of a purely random classifier; a good classifier stays as far away from that line as possible (toward the top-left corner).\n",
    "From the above plot, we can see that our classifier (logistic regression) is away from the dotted line; with the AUC score 0.7704."
   ]
  },
  {
   "cell_type": "code",
   "execution_count": 28,
   "id": "cff4a51b",
   "metadata": {},
   "outputs": [
    {
     "data": {
      "text/plain": [
       "0.7863461514365547"
      ]
     },
     "execution_count": 28,
     "metadata": {},
     "output_type": "execute_result"
    }
   ],
   "source": [
    "metrics.accuracy_score(y_test, y_pred)"
   ]
  },
  {
   "cell_type": "code",
   "execution_count": 29,
   "id": "7d099788",
   "metadata": {},
   "outputs": [],
   "source": [
    "cutoff = [0.1, 0.2, 0.3, 0.4, 0.5, 0.6, 0.7, 0.8, 0.9]\n",
    "\n",
    "for value in cutoff:\n",
    "    update_score_card(logreg, value)"
   ]
  },
  {
   "cell_type": "code",
   "execution_count": 30,
   "id": "675dc786",
   "metadata": {},
   "outputs": [
    {
     "name": "stdout",
     "output_type": "stream",
     "text": [
      "Score Card for Logistic regression:\n"
     ]
    },
    {
     "data": {
      "text/html": [
       "<style type=\"text/css\">\n",
       "#T_a593c_row0_col1, #T_a593c_row1_col1, #T_a593c_row2_col1, #T_a593c_row2_col5, #T_a593c_row2_col6, #T_a593c_row3_col1, #T_a593c_row4_col1, #T_a593c_row4_col4, #T_a593c_row5_col1, #T_a593c_row6_col1, #T_a593c_row7_col1, #T_a593c_row8_col1 {\n",
       "  background-color: lightblue;\n",
       "}\n",
       "</style>\n",
       "<table id=\"T_a593c\">\n",
       "  <thead>\n",
       "    <tr>\n",
       "      <th class=\"blank level0\" >&nbsp;</th>\n",
       "      <th id=\"T_a593c_level0_col0\" class=\"col_heading level0 col0\" >Probability Cutoff</th>\n",
       "      <th id=\"T_a593c_level0_col1\" class=\"col_heading level0 col1\" >AUC Score</th>\n",
       "      <th id=\"T_a593c_level0_col2\" class=\"col_heading level0 col2\" >Precision Score</th>\n",
       "      <th id=\"T_a593c_level0_col3\" class=\"col_heading level0 col3\" >Recall Score</th>\n",
       "      <th id=\"T_a593c_level0_col4\" class=\"col_heading level0 col4\" >Accuracy Score</th>\n",
       "      <th id=\"T_a593c_level0_col5\" class=\"col_heading level0 col5\" >Kappa Score</th>\n",
       "      <th id=\"T_a593c_level0_col6\" class=\"col_heading level0 col6\" >f1-score</th>\n",
       "    </tr>\n",
       "  </thead>\n",
       "  <tbody>\n",
       "    <tr>\n",
       "      <th id=\"T_a593c_level0_row0\" class=\"row_heading level0 row0\" >0</th>\n",
       "      <td id=\"T_a593c_row0_col0\" class=\"data row0 col0\" >0.100000</td>\n",
       "      <td id=\"T_a593c_row0_col1\" class=\"data row0 col1\" >0.770387</td>\n",
       "      <td id=\"T_a593c_row0_col2\" class=\"data row0 col2\" >0.296274</td>\n",
       "      <td id=\"T_a593c_row0_col3\" class=\"data row0 col3\" >0.941778</td>\n",
       "      <td id=\"T_a593c_row0_col4\" class=\"data row0 col4\" >0.460362</td>\n",
       "      <td id=\"T_a593c_row0_col5\" class=\"data row0 col5\" >0.144859</td>\n",
       "      <td id=\"T_a593c_row0_col6\" class=\"data row0 col6\" >0.450747</td>\n",
       "    </tr>\n",
       "    <tr>\n",
       "      <th id=\"T_a593c_level0_row1\" class=\"row_heading level0 row1\" >1</th>\n",
       "      <td id=\"T_a593c_row1_col0\" class=\"data row1 col0\" >0.200000</td>\n",
       "      <td id=\"T_a593c_row1_col1\" class=\"data row1 col1\" >0.770387</td>\n",
       "      <td id=\"T_a593c_row1_col2\" class=\"data row1 col2\" >0.388207</td>\n",
       "      <td id=\"T_a593c_row1_col3\" class=\"data row1 col3\" >0.764715</td>\n",
       "      <td id=\"T_a593c_row1_col4\" class=\"data row1 col4\" >0.661329</td>\n",
       "      <td id=\"T_a593c_row1_col5\" class=\"data row1 col5\" >0.295137</td>\n",
       "      <td id=\"T_a593c_row1_col6\" class=\"data row1 col6\" >0.514983</td>\n",
       "    </tr>\n",
       "    <tr>\n",
       "      <th id=\"T_a593c_level0_row2\" class=\"row_heading level0 row2\" >2</th>\n",
       "      <td id=\"T_a593c_row2_col0\" class=\"data row2 col0\" >0.300000</td>\n",
       "      <td id=\"T_a593c_row2_col1\" class=\"data row2 col1\" >0.770387</td>\n",
       "      <td id=\"T_a593c_row2_col2\" class=\"data row2 col2\" >0.471529</td>\n",
       "      <td id=\"T_a593c_row2_col3\" class=\"data row2 col3\" >0.582083</td>\n",
       "      <td id=\"T_a593c_row2_col4\" class=\"data row2 col4\" >0.748355</td>\n",
       "      <td id=\"T_a593c_row2_col5\" class=\"data row2 col5\" >0.352896</td>\n",
       "      <td id=\"T_a593c_row2_col6\" class=\"data row2 col6\" >0.521006</td>\n",
       "    </tr>\n",
       "    <tr>\n",
       "      <th id=\"T_a593c_level0_row3\" class=\"row_heading level0 row3\" >3</th>\n",
       "      <td id=\"T_a593c_row3_col0\" class=\"data row3 col0\" >0.400000</td>\n",
       "      <td id=\"T_a593c_row3_col1\" class=\"data row3 col1\" >0.770387</td>\n",
       "      <td id=\"T_a593c_row3_col2\" class=\"data row3 col2\" >0.540862</td>\n",
       "      <td id=\"T_a593c_row3_col3\" class=\"data row3 col3\" >0.413360</td>\n",
       "      <td id=\"T_a593c_row3_col4\" class=\"data row3 col4\" >0.779567</td>\n",
       "      <td id=\"T_a593c_row3_col5\" class=\"data row3 col5\" >0.332653</td>\n",
       "      <td id=\"T_a593c_row3_col6\" class=\"data row3 col6\" >0.468593</td>\n",
       "    </tr>\n",
       "    <tr>\n",
       "      <th id=\"T_a593c_level0_row4\" class=\"row_heading level0 row4\" >4</th>\n",
       "      <td id=\"T_a593c_row4_col0\" class=\"data row4 col0\" >0.500000</td>\n",
       "      <td id=\"T_a593c_row4_col1\" class=\"data row4 col1\" >0.770387</td>\n",
       "      <td id=\"T_a593c_row4_col2\" class=\"data row4 col2\" >0.600493</td>\n",
       "      <td id=\"T_a593c_row4_col3\" class=\"data row4 col3\" >0.272749</td>\n",
       "      <td id=\"T_a593c_row4_col4\" class=\"data row4 col4\" >0.786346</td>\n",
       "      <td id=\"T_a593c_row4_col5\" class=\"data row4 col5\" >0.267537</td>\n",
       "      <td id=\"T_a593c_row4_col6\" class=\"data row4 col6\" >0.375117</td>\n",
       "    </tr>\n",
       "    <tr>\n",
       "      <th id=\"T_a593c_level0_row5\" class=\"row_heading level0 row5\" >5</th>\n",
       "      <td id=\"T_a593c_row5_col0\" class=\"data row5 col0\" >0.600000</td>\n",
       "      <td id=\"T_a593c_row5_col1\" class=\"data row5 col1\" >0.770387</td>\n",
       "      <td id=\"T_a593c_row5_col2\" class=\"data row5 col2\" >0.667381</td>\n",
       "      <td id=\"T_a593c_row5_col3\" class=\"data row5 col3\" >0.157558</td>\n",
       "      <td id=\"T_a593c_row5_col4\" class=\"data row5 col4\" >0.783464</td>\n",
       "      <td id=\"T_a593c_row5_col5\" class=\"data row5 col5\" >0.181412</td>\n",
       "      <td id=\"T_a593c_row5_col6\" class=\"data row5 col6\" >0.254931</td>\n",
       "    </tr>\n",
       "    <tr>\n",
       "      <th id=\"T_a593c_level0_row6\" class=\"row_heading level0 row6\" >6</th>\n",
       "      <td id=\"T_a593c_row6_col0\" class=\"data row6 col0\" >0.700000</td>\n",
       "      <td id=\"T_a593c_row6_col1\" class=\"data row6 col1\" >0.770387</td>\n",
       "      <td id=\"T_a593c_row6_col2\" class=\"data row6 col2\" >0.733008</td>\n",
       "      <td id=\"T_a593c_row6_col3\" class=\"data row6 col3\" >0.064084</td>\n",
       "      <td id=\"T_a593c_row6_col4\" class=\"data row6 col4\" >0.774462</td>\n",
       "      <td id=\"T_a593c_row6_col5\" class=\"data row6 col5\" >0.083203</td>\n",
       "      <td id=\"T_a593c_row6_col6\" class=\"data row6 col6\" >0.117863</td>\n",
       "    </tr>\n",
       "    <tr>\n",
       "      <th id=\"T_a593c_level0_row7\" class=\"row_heading level0 row7\" >7</th>\n",
       "      <td id=\"T_a593c_row7_col0\" class=\"data row7 col0\" >0.800000</td>\n",
       "      <td id=\"T_a593c_row7_col1\" class=\"data row7 col1\" >0.770387</td>\n",
       "      <td id=\"T_a593c_row7_col2\" class=\"data row7 col2\" >0.765957</td>\n",
       "      <td id=\"T_a593c_row7_col3\" class=\"data row7 col3\" >0.011511</td>\n",
       "      <td id=\"T_a593c_row7_col4\" class=\"data row7 col4\" >0.766762</td>\n",
       "      <td id=\"T_a593c_row7_col5\" class=\"data row7 col5\" >0.015829</td>\n",
       "      <td id=\"T_a593c_row7_col6\" class=\"data row7 col6\" >0.022681</td>\n",
       "    </tr>\n",
       "    <tr>\n",
       "      <th id=\"T_a593c_level0_row8\" class=\"row_heading level0 row8\" >8</th>\n",
       "      <td id=\"T_a593c_row8_col0\" class=\"data row8 col0\" >0.900000</td>\n",
       "      <td id=\"T_a593c_row8_col1\" class=\"data row8 col1\" >0.770387</td>\n",
       "      <td id=\"T_a593c_row8_col2\" class=\"data row8 col2\" >0.945946</td>\n",
       "      <td id=\"T_a593c_row8_col3\" class=\"data row8 col3\" >0.000933</td>\n",
       "      <td id=\"T_a593c_row8_col4\" class=\"data row8 col4\" >0.765089</td>\n",
       "      <td id=\"T_a593c_row8_col5\" class=\"data row8 col5\" >0.001401</td>\n",
       "      <td id=\"T_a593c_row8_col6\" class=\"data row8 col6\" >0.001863</td>\n",
       "    </tr>\n",
       "  </tbody>\n",
       "</table>\n"
      ],
      "text/plain": [
       "<pandas.io.formats.style.Styler at 0x1e5dc008a60>"
      ]
     },
     "execution_count": 30,
     "metadata": {},
     "output_type": "execute_result"
    }
   ],
   "source": [
    "print('Score Card for Logistic regression:')\n",
    "\n",
    "score_card = score_card.sort_values('Probability Cutoff').reset_index(drop = True)\n",
    "\n",
    "score_card.style.highlight_max(color = 'lightblue', subset = ['AUC Score', 'Accuracy Score', 'Kappa Score', 'f1-score'])"
   ]
  },
  {
   "cell_type": "markdown",
   "id": "35879fb1",
   "metadata": {},
   "source": [
    "The Logistic Regression model we’ve built will help the bank to predict the defaulters on the basis of their details with an accuracy of 78%.\n",
    "\n",
    "Threshold of 0.3 has the best AUC Score, Kappa Score and f-1 score thus, we’ll use 0.3 as a threshold for building the future Logistic Regression models.\n",
    "\n",
    "Since, the initial model we built is based on imbalanced target feature, we shouldn’t be focussing on the accuracy score to decide the best threshold value, because the model would be biased towards a particular sub class.\n"
   ]
  }
 ],
 "metadata": {
  "kernelspec": {
   "display_name": "Python 3 (ipykernel)",
   "language": "python",
   "name": "python3"
  },
  "language_info": {
   "codemirror_mode": {
    "name": "ipython",
    "version": 3
   },
   "file_extension": ".py",
   "mimetype": "text/x-python",
   "name": "python",
   "nbconvert_exporter": "python",
   "pygments_lexer": "ipython3",
   "version": "3.9.12"
  }
 },
 "nbformat": 4,
 "nbformat_minor": 5
}
